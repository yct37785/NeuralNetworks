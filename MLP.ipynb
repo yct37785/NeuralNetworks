{
 "cells": [
  {
   "cell_type": "markdown",
   "id": "abce605d",
   "metadata": {},
   "source": [
    "# MLP\n",
    "\n",
    "MLP implementation with Tensorflow.\n",
    "\n",
    "Sources:\n",
    "https://towardsdatascience.com/multi-layer-perceptron-using-tensorflow-9f3e218a4809, https://www.geeksforgeeks.org/multi-layer-perceptron-learning-in-tensorflow/"
   ]
  },
  {
   "cell_type": "markdown",
   "id": "744cd69d",
   "metadata": {},
   "source": [
    "## Dependencies"
   ]
  },
  {
   "cell_type": "code",
   "execution_count": 1,
   "id": "d97340f6",
   "metadata": {},
   "outputs": [
    {
     "name": "stderr",
     "output_type": "stream",
     "text": [
      "C:\\Users\\yctan\\.conda\\envs\\ML\\lib\\site-packages\\scipy\\__init__.py:146: UserWarning: A NumPy version >=1.16.5 and <1.23.0 is required for this version of SciPy (detected version 1.23.1\n",
      "  warnings.warn(f\"A NumPy version >={np_minversion} and <{np_maxversion}\"\n"
     ]
    }
   ],
   "source": [
    "import tensorflow as tf\n",
    "import numpy as np\n",
    "from keras.models import Sequential\n",
    "from keras.layers import Flatten\n",
    "from keras.layers import Dense\n",
    "from keras.layers import Dropout\n",
    "from keras.layers import Activation\n",
    "import matplotlib.pyplot as plt"
   ]
  },
  {
   "cell_type": "markdown",
   "id": "9a48a04f",
   "metadata": {},
   "source": [
    "## Load dataset\n",
    "Load mnist data with keras, split into train and test data (read up on mnist dataset). Pixel values will be normalized."
   ]
  },
  {
   "cell_type": "code",
   "execution_count": 2,
   "id": "dbfbb110",
   "metadata": {},
   "outputs": [],
   "source": [
    "(X_train, y_train), (X_test, y_test) = tf.keras.datasets.mnist.load_data()\n",
    "# normalize pixel values\n",
    "X_train = X_train.astype(float) / 255.\n",
    "X_test = X_test.astype(float) / 255."
   ]
  },
  {
   "cell_type": "markdown",
   "id": "16365739",
   "metadata": {},
   "source": [
    "## Visualize dataset"
   ]
  },
  {
   "cell_type": "code",
   "execution_count": 3,
   "id": "401fd2f9",
   "metadata": {},
   "outputs": [
    {
     "name": "stdout",
     "output_type": "stream",
     "text": [
      "Feature matrix: (60000, 28, 28)\n",
      "Target matrix: (10000, 28, 28)\n",
      "Feature matrix: (60000,)\n",
      "Target matrix: (10000,)\n"
     ]
    }
   ],
   "source": [
    "print('Feature matrix:', X_train.shape)\n",
    "print('Target matrix:', X_test.shape)\n",
    "print('Feature matrix:', y_train.shape)\n",
    "print('Target matrix:', y_test.shape)"
   ]
  },
  {
   "cell_type": "code",
   "execution_count": 4,
   "id": "17c9bdd8",
   "metadata": {},
   "outputs": [
    {
     "data": {
      "image/png": "[encoded data removed]",
      "text/plain": [
       "<Figure size 720x720 with 25 Axes>"
      ]
     },
     "metadata": {},
     "output_type": "display_data"
    }
   ],
   "source": [
    "plt.figure(figsize=(10,10))\n",
    "for i in range(25):\n",
    "    plt.subplot(5,5,i+1)\n",
    "    plt.xticks([])\n",
    "    plt.yticks([])\n",
    "    plt.grid(False)\n",
    "    plt.imshow(X_train[i])\n",
    "    plt.xlabel(y_train[i])\n",
    "plt.show()"
   ]
  },
  {
   "cell_type": "markdown",
   "id": "d39c2dc2",
   "metadata": {},
   "source": [
    "## Create our model\n",
    "Create our model (784 * 512 * 256 * 10), 2 hidden layers each with droput layers attached and an output layer (softmax)."
   ]
  },
  {
   "cell_type": "code",
   "execution_count": 5,
   "id": "79832ead",
   "metadata": {},
   "outputs": [],
   "source": [
    "model = Sequential([\n",
    "    # reshape 28 row * 28 column data to 28*28 rows\n",
    "    Flatten(input_shape=(28, 28)),\n",
    "    # dense layer 1\n",
    "    Dense(512, activation='relu'),\n",
    "    Dropout(.2),\n",
    "    # dense layer 2\n",
    "    Dense(256, activation='relu'),\n",
    "    Dropout(.2),\n",
    "    # output layer\n",
    "    Dense(10, activation='softmax'),\n",
    "])"
   ]
  },
  {
   "cell_type": "markdown",
   "id": "849810eb",
   "metadata": {},
   "source": [
    "## Complete model\n",
    "Compile with optimizer (Adam, SGD etc) and loss calculation (MSE etc)"
   ]
  },
  {
   "cell_type": "code",
   "execution_count": 6,
   "id": "bb5579b7",
   "metadata": {},
   "outputs": [],
   "source": [
    "model.compile(optimizer='adam', \n",
    "              loss='sparse_categorical_crossentropy', \n",
    "              metrics=['accuracy'])"
   ]
  },
  {
   "cell_type": "markdown",
   "id": "abf3b97a",
   "metadata": {},
   "source": [
    "## Train\n",
    "epoch: how many times to do the batch training\n",
    "\n",
    "batch: number of samples per epoch, next epoch trains on the next batch_size of data i.e. staircase\n",
    "\n",
    "validation_split: how much of the training data to be used for loss evaluation (model will not be trained on this data)"
   ]
  },
  {
   "cell_type": "code",
   "execution_count": 7,
   "id": "aecbfa0e",
   "metadata": {},
   "outputs": [
    {
     "name": "stdout",
     "output_type": "stream",
     "text": [
      "Epoch 1/10\n",
      "80/80 [==============================] - 3s 29ms/step - loss: 0.4960 - accuracy: 0.8562 - val_loss: 0.1885 - val_accuracy: 0.9461\n",
      "Epoch 2/10\n",
      "80/80 [==============================] - 3s 34ms/step - loss: 0.1832 - accuracy: 0.9454 - val_loss: 0.1316 - val_accuracy: 0.9622\n",
      "Epoch 3/10\n",
      "80/80 [==============================] - 2s 27ms/step - loss: 0.1262 - accuracy: 0.9622 - val_loss: 0.1092 - val_accuracy: 0.9675\n",
      "Epoch 4/10\n",
      "80/80 [==============================] - 2s 24ms/step - loss: 0.0943 - accuracy: 0.9717 - val_loss: 0.0953 - val_accuracy: 0.9723\n",
      "Epoch 5/10\n",
      "80/80 [==============================] - 2s 24ms/step - loss: 0.0758 - accuracy: 0.9764 - val_loss: 0.0841 - val_accuracy: 0.9749\n",
      "Epoch 6/10\n",
      "80/80 [==============================] - 2s 23ms/step - loss: 0.0612 - accuracy: 0.9818 - val_loss: 0.0761 - val_accuracy: 0.9771\n",
      "Epoch 7/10\n",
      "80/80 [==============================] - 2s 26ms/step - loss: 0.0507 - accuracy: 0.9841 - val_loss: 0.0749 - val_accuracy: 0.9778\n",
      "Epoch 8/10\n",
      "80/80 [==============================] - 2s 24ms/step - loss: 0.0416 - accuracy: 0.9873 - val_loss: 0.0738 - val_accuracy: 0.9786\n",
      "Epoch 9/10\n",
      "80/80 [==============================] - 2s 22ms/step - loss: 0.0348 - accuracy: 0.9888 - val_loss: 0.0723 - val_accuracy: 0.9799\n",
      "Epoch 10/10\n",
      "80/80 [==============================] - 2s 22ms/step - loss: 0.0305 - accuracy: 0.9904 - val_loss: 0.0768 - val_accuracy: 0.9784\n"
     ]
    }
   ],
   "source": [
    "history = model.fit(X_train, y_train, \n",
    "          epochs=10, \n",
    "          batch_size=600, \n",
    "          validation_split=0.2)"
   ]
  },
  {
   "cell_type": "markdown",
   "id": "84653cec",
   "metadata": {},
   "source": [
    "## Evaluate\n",
    "\n",
    "accuracy: training data accuracy\n",
    "\n",
    "val_accuracy: validation split accuracy"
   ]
  },
  {
   "cell_type": "code",
   "execution_count": 10,
   "id": "7c283c58",
   "metadata": {},
   "outputs": [
    {
     "data": {
      "text/plain": [
       "<matplotlib.legend.Legend at 0x2080a4be6d0>"
      ]
     },
     "execution_count": 10,
     "metadata": {},
     "output_type": "execute_result"
    },
    {
     "data": {
      "image/png": "[encoded data removed]",
      "text/plain": [
       "<Figure size 432x288 with 1 Axes>"
      ]
     },
     "metadata": {
      "needs_background": "light"
     },
     "output_type": "display_data"
    }
   ],
   "source": [
    "plt.plot(history.history['accuracy'], label='accuracy')\n",
    "plt.plot(history.history['val_accuracy'], label = 'val_accuracy')\n",
    "plt.xlabel('Epoch')\n",
    "plt.ylabel('Accuracy')\n",
    "plt.ylim([0.5, 1])\n",
    "plt.legend(loc='lower right')"
   ]
  },
  {
   "cell_type": "markdown",
   "id": "ba14fdd8",
   "metadata": {},
   "source": [
    "## Results"
   ]
  },
  {
   "cell_type": "code",
   "execution_count": 11,
   "id": "fcc8d867",
   "metadata": {},
   "outputs": [
    {
     "name": "stdout",
     "output_type": "stream",
     "text": [
      "test loss, test acc: [0.0666138082742691, 0.9801999926567078]\n"
     ]
    }
   ],
   "source": [
    "results = model.evaluate(X_test, y_test, verbose=0)\n",
    "print('test loss, test acc:', results)"
   ]
  },
  {
   "cell_type": "markdown",
   "id": "5ccb0bbf",
   "metadata": {},
   "source": [
    "## Results analysis\n",
    "512 * 256, batch_size 2000, no dropouts: 0.9745\n",
    "\n",
    "512 * 256, batch_size 1000, no dropouts: 0.9785\n",
    "\n",
    "512 * 256, batch_size 800, no dropouts: 0.9789\n",
    "\n",
    "512 * 256, batch_size 800, dropout .2: 0.9803\n",
    "\n",
    "512 * 256, batch_size 600, dropout .2: 0.9819\n",
    "\n",
    "512 * 256 * 256, batch_size 600, dropout .2: 0.9822"
   ]
  }
 ],
 "metadata": {
  "kernelspec": {
   "display_name": "Python 3 (ipykernel)",
   "language": "python",
   "name": "python3"
  },
  "language_info": {
   "codemirror_mode": {
    "name": "ipython",
    "version": 3
   },
   "file_extension": ".py",
   "mimetype": "text/x-python",
   "name": "python",
   "nbconvert_exporter": "python",
   "pygments_lexer": "ipython3",
   "version": "3.8.13"
  }
 },
 "nbformat": 4,
 "nbformat_minor": 5
}
